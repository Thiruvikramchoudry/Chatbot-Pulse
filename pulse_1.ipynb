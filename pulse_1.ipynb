{
 "nbformat": 4,
 "nbformat_minor": 0,
 "metadata": {
  "colab": {
   "provenance": [],
   "authorship_tag": "ABX9TyOjK/CmoVdbU7KUzbyebuRg",
   "include_colab_link": true
  },
  "kernelspec": {
   "name": "python3",
   "display_name": "Python 3"
  },
  "language_info": {
   "name": "python"
  }
 },
 "cells": [
  {
   "cell_type": "markdown",
   "metadata": {
    "id": "view-in-github",
    "colab_type": "text"
   },
   "source": [
    "<a href=\"https://colab.research.google.com/github/Thiruvikramchoudry/Chatbot-Pulse/blob/master/pulse_1.ipynb\" target=\"_parent\"><img src=\"https://colab.research.google.com/assets/colab-badge.svg\" alt=\"Open In Colab\"/></a>"
   ]
  },
  {
   "cell_type": "code",
   "execution_count": 23,
   "metadata": {
    "id": "TdNszKoduUQw"
   },
   "outputs": [],
   "source": [
    "#Importing required libraries\n",
    "import numpy as np # linear algebra\n",
    "import pandas as pd"
   ]
  },
  {
   "cell_type": "code",
   "source": [
    "data = pd.read_csv(\"hmnist_28_28_RGB.csv\")\n"
   ],
   "metadata": {
    "id": "KHJo5iNDuaon"
   },
   "execution_count": 24,
   "outputs": []
  },
  {
   "cell_type": "code",
   "source": [
    "data.head()"
   ],
   "metadata": {
    "id": "BLfstwfH4b3e",
    "colab": {
     "base_uri": "https://localhost:8080/",
     "height": 299
    },
    "outputId": "86aa326c-79e6-4384-dc67-36d4e3d8a1a9"
   },
   "execution_count": 25,
   "outputs": [
    {
     "output_type": "execute_result",
     "data": {
      "text/plain": [
       "   pixel0000  pixel0001  pixel0002  pixel0003  pixel0004  pixel0005  \\\n",
       "0        192        153        193        195        155        192   \n",
       "1         25         14         30         68         48         75   \n",
       "2        192        138        153        200        145        163   \n",
       "3         38         19         30         95         59         72   \n",
       "4        158        113        139        194        144        174   \n",
       "\n",
       "   pixel0006  pixel0007  pixel0008  pixel0009  ...  pixel2343  pixel2344  \\\n",
       "0        197        154        185        202  ...      173.0      124.0   \n",
       "1        123         93        126        158  ...       60.0       39.0   \n",
       "2        201        142        160        206  ...      167.0      129.0   \n",
       "3        143        103        119        171  ...       44.0       26.0   \n",
       "4        215        162        191        225  ...      209.0      166.0   \n",
       "\n",
       "   pixel2345  pixel2346  pixel2347  pixel2348  pixel2349  pixel2350  \\\n",
       "0      138.0      183.0      147.0      166.0      185.0      154.0   \n",
       "1       55.0       25.0       14.0       28.0       25.0       14.0   \n",
       "2      143.0      159.0      124.0      142.0      136.0      104.0   \n",
       "3       36.0       25.0       12.0       17.0       25.0       12.0   \n",
       "4      185.0      172.0      135.0      149.0      109.0       78.0   \n",
       "\n",
       "   pixel2351  label  \n",
       "0      177.0    2.0  \n",
       "1       27.0    2.0  \n",
       "2      117.0    2.0  \n",
       "3       15.0    2.0  \n",
       "4       92.0    2.0  \n",
       "\n",
       "[5 rows x 2353 columns]"
      ],
      "text/html": [
       "\n",
       "\n",
       "  <div id=\"df-81774ca6-bcee-4dde-a1c2-631457b10d10\">\n",
       "    <div class=\"colab-df-container\">\n",
       "      <div>\n",
       "<style scoped>\n",
       "    .dataframe tbody tr th:only-of-type {\n",
       "        vertical-align: middle;\n",
       "    }\n",
       "\n",
       "    .dataframe tbody tr th {\n",
       "        vertical-align: top;\n",
       "    }\n",
       "\n",
       "    .dataframe thead th {\n",
       "        text-align: right;\n",
       "    }\n",
       "</style>\n",
       "<table border=\"1\" class=\"dataframe\">\n",
       "  <thead>\n",
       "    <tr style=\"text-align: right;\">\n",
       "      <th></th>\n",
       "      <th>pixel0000</th>\n",
       "      <th>pixel0001</th>\n",
       "      <th>pixel0002</th>\n",
       "      <th>pixel0003</th>\n",
       "      <th>pixel0004</th>\n",
       "      <th>pixel0005</th>\n",
       "      <th>pixel0006</th>\n",
       "      <th>pixel0007</th>\n",
       "      <th>pixel0008</th>\n",
       "      <th>pixel0009</th>\n",
       "      <th>...</th>\n",
       "      <th>pixel2343</th>\n",
       "      <th>pixel2344</th>\n",
       "      <th>pixel2345</th>\n",
       "      <th>pixel2346</th>\n",
       "      <th>pixel2347</th>\n",
       "      <th>pixel2348</th>\n",
       "      <th>pixel2349</th>\n",
       "      <th>pixel2350</th>\n",
       "      <th>pixel2351</th>\n",
       "      <th>label</th>\n",
       "    </tr>\n",
       "  </thead>\n",
       "  <tbody>\n",
       "    <tr>\n",
       "      <th>0</th>\n",
       "      <td>192</td>\n",
       "      <td>153</td>\n",
       "      <td>193</td>\n",
       "      <td>195</td>\n",
       "      <td>155</td>\n",
       "      <td>192</td>\n",
       "      <td>197</td>\n",
       "      <td>154</td>\n",
       "      <td>185</td>\n",
       "      <td>202</td>\n",
       "      <td>...</td>\n",
       "      <td>173.0</td>\n",
       "      <td>124.0</td>\n",
       "      <td>138.0</td>\n",
       "      <td>183.0</td>\n",
       "      <td>147.0</td>\n",
       "      <td>166.0</td>\n",
       "      <td>185.0</td>\n",
       "      <td>154.0</td>\n",
       "      <td>177.0</td>\n",
       "      <td>2.0</td>\n",
       "    </tr>\n",
       "    <tr>\n",
       "      <th>1</th>\n",
       "      <td>25</td>\n",
       "      <td>14</td>\n",
       "      <td>30</td>\n",
       "      <td>68</td>\n",
       "      <td>48</td>\n",
       "      <td>75</td>\n",
       "      <td>123</td>\n",
       "      <td>93</td>\n",
       "      <td>126</td>\n",
       "      <td>158</td>\n",
       "      <td>...</td>\n",
       "      <td>60.0</td>\n",
       "      <td>39.0</td>\n",
       "      <td>55.0</td>\n",
       "      <td>25.0</td>\n",
       "      <td>14.0</td>\n",
       "      <td>28.0</td>\n",
       "      <td>25.0</td>\n",
       "      <td>14.0</td>\n",
       "      <td>27.0</td>\n",
       "      <td>2.0</td>\n",
       "    </tr>\n",
       "    <tr>\n",
       "      <th>2</th>\n",
       "      <td>192</td>\n",
       "      <td>138</td>\n",
       "      <td>153</td>\n",
       "      <td>200</td>\n",
       "      <td>145</td>\n",
       "      <td>163</td>\n",
       "      <td>201</td>\n",
       "      <td>142</td>\n",
       "      <td>160</td>\n",
       "      <td>206</td>\n",
       "      <td>...</td>\n",
       "      <td>167.0</td>\n",
       "      <td>129.0</td>\n",
       "      <td>143.0</td>\n",
       "      <td>159.0</td>\n",
       "      <td>124.0</td>\n",
       "      <td>142.0</td>\n",
       "      <td>136.0</td>\n",
       "      <td>104.0</td>\n",
       "      <td>117.0</td>\n",
       "      <td>2.0</td>\n",
       "    </tr>\n",
       "    <tr>\n",
       "      <th>3</th>\n",
       "      <td>38</td>\n",
       "      <td>19</td>\n",
       "      <td>30</td>\n",
       "      <td>95</td>\n",
       "      <td>59</td>\n",
       "      <td>72</td>\n",
       "      <td>143</td>\n",
       "      <td>103</td>\n",
       "      <td>119</td>\n",
       "      <td>171</td>\n",
       "      <td>...</td>\n",
       "      <td>44.0</td>\n",
       "      <td>26.0</td>\n",
       "      <td>36.0</td>\n",
       "      <td>25.0</td>\n",
       "      <td>12.0</td>\n",
       "      <td>17.0</td>\n",
       "      <td>25.0</td>\n",
       "      <td>12.0</td>\n",
       "      <td>15.0</td>\n",
       "      <td>2.0</td>\n",
       "    </tr>\n",
       "    <tr>\n",
       "      <th>4</th>\n",
       "      <td>158</td>\n",
       "      <td>113</td>\n",
       "      <td>139</td>\n",
       "      <td>194</td>\n",
       "      <td>144</td>\n",
       "      <td>174</td>\n",
       "      <td>215</td>\n",
       "      <td>162</td>\n",
       "      <td>191</td>\n",
       "      <td>225</td>\n",
       "      <td>...</td>\n",
       "      <td>209.0</td>\n",
       "      <td>166.0</td>\n",
       "      <td>185.0</td>\n",
       "      <td>172.0</td>\n",
       "      <td>135.0</td>\n",
       "      <td>149.0</td>\n",
       "      <td>109.0</td>\n",
       "      <td>78.0</td>\n",
       "      <td>92.0</td>\n",
       "      <td>2.0</td>\n",
       "    </tr>\n",
       "  </tbody>\n",
       "</table>\n",
       "<p>5 rows × 2353 columns</p>\n",
       "</div>\n",
       "      <button class=\"colab-df-convert\" onclick=\"convertToInteractive('df-81774ca6-bcee-4dde-a1c2-631457b10d10')\"\n",
       "              title=\"Convert this dataframe to an interactive table.\"\n",
       "              style=\"display:none;\">\n",
       "\n",
       "  <svg xmlns=\"http://www.w3.org/2000/svg\" height=\"24px\"viewBox=\"0 0 24 24\"\n",
       "       width=\"24px\">\n",
       "    <path d=\"M0 0h24v24H0V0z\" fill=\"none\"/>\n",
       "    <path d=\"M18.56 5.44l.94 2.06.94-2.06 2.06-.94-2.06-.94-.94-2.06-.94 2.06-2.06.94zm-11 1L8.5 8.5l.94-2.06 2.06-.94-2.06-.94L8.5 2.5l-.94 2.06-2.06.94zm10 10l.94 2.06.94-2.06 2.06-.94-2.06-.94-.94-2.06-.94 2.06-2.06.94z\"/><path d=\"M17.41 7.96l-1.37-1.37c-.4-.4-.92-.59-1.43-.59-.52 0-1.04.2-1.43.59L10.3 9.45l-7.72 7.72c-.78.78-.78 2.05 0 2.83L4 21.41c.39.39.9.59 1.41.59.51 0 1.02-.2 1.41-.59l7.78-7.78 2.81-2.81c.8-.78.8-2.07 0-2.86zM5.41 20L4 18.59l7.72-7.72 1.47 1.35L5.41 20z\"/>\n",
       "  </svg>\n",
       "      </button>\n",
       "\n",
       "\n",
       "\n",
       "    <div id=\"df-fb634783-e1fb-41e6-bd61-270e5144a91a\">\n",
       "      <button class=\"colab-df-quickchart\" onclick=\"quickchart('df-fb634783-e1fb-41e6-bd61-270e5144a91a')\"\n",
       "              title=\"Suggest charts.\"\n",
       "              style=\"display:none;\">\n",
       "\n",
       "<svg xmlns=\"http://www.w3.org/2000/svg\" height=\"24px\"viewBox=\"0 0 24 24\"\n",
       "     width=\"24px\">\n",
       "    <g>\n",
       "        <path d=\"M19 3H5c-1.1 0-2 .9-2 2v14c0 1.1.9 2 2 2h14c1.1 0 2-.9 2-2V5c0-1.1-.9-2-2-2zM9 17H7v-7h2v7zm4 0h-2V7h2v10zm4 0h-2v-4h2v4z\"/>\n",
       "    </g>\n",
       "</svg>\n",
       "      </button>\n",
       "    </div>\n",
       "\n",
       "<style>\n",
       "  .colab-df-quickchart {\n",
       "    background-color: #E8F0FE;\n",
       "    border: none;\n",
       "    border-radius: 50%;\n",
       "    cursor: pointer;\n",
       "    display: none;\n",
       "    fill: #1967D2;\n",
       "    height: 32px;\n",
       "    padding: 0 0 0 0;\n",
       "    width: 32px;\n",
       "  }\n",
       "\n",
       "  .colab-df-quickchart:hover {\n",
       "    background-color: #E2EBFA;\n",
       "    box-shadow: 0px 1px 2px rgba(60, 64, 67, 0.3), 0px 1px 3px 1px rgba(60, 64, 67, 0.15);\n",
       "    fill: #174EA6;\n",
       "  }\n",
       "\n",
       "  [theme=dark] .colab-df-quickchart {\n",
       "    background-color: #3B4455;\n",
       "    fill: #D2E3FC;\n",
       "  }\n",
       "\n",
       "  [theme=dark] .colab-df-quickchart:hover {\n",
       "    background-color: #434B5C;\n",
       "    box-shadow: 0px 1px 3px 1px rgba(0, 0, 0, 0.15);\n",
       "    filter: drop-shadow(0px 1px 2px rgba(0, 0, 0, 0.3));\n",
       "    fill: #FFFFFF;\n",
       "  }\n",
       "</style>\n",
       "\n",
       "    <script>\n",
       "      async function quickchart(key) {\n",
       "        const containerElement = document.querySelector('#' + key);\n",
       "        const charts = await google.colab.kernel.invokeFunction(\n",
       "            'suggestCharts', [key], {});\n",
       "      }\n",
       "    </script>\n",
       "\n",
       "      <script>\n",
       "\n",
       "function displayQuickchartButton(domScope) {\n",
       "  let quickchartButtonEl =\n",
       "    domScope.querySelector('#df-fb634783-e1fb-41e6-bd61-270e5144a91a button.colab-df-quickchart');\n",
       "  quickchartButtonEl.style.display =\n",
       "    google.colab.kernel.accessAllowed ? 'block' : 'none';\n",
       "}\n",
       "\n",
       "        displayQuickchartButton(document);\n",
       "      </script>\n",
       "      <style>\n",
       "    .colab-df-container {\n",
       "      display:flex;\n",
       "      flex-wrap:wrap;\n",
       "      gap: 12px;\n",
       "    }\n",
       "\n",
       "    .colab-df-convert {\n",
       "      background-color: #E8F0FE;\n",
       "      border: none;\n",
       "      border-radius: 50%;\n",
       "      cursor: pointer;\n",
       "      display: none;\n",
       "      fill: #1967D2;\n",
       "      height: 32px;\n",
       "      padding: 0 0 0 0;\n",
       "      width: 32px;\n",
       "    }\n",
       "\n",
       "    .colab-df-convert:hover {\n",
       "      background-color: #E2EBFA;\n",
       "      box-shadow: 0px 1px 2px rgba(60, 64, 67, 0.3), 0px 1px 3px 1px rgba(60, 64, 67, 0.15);\n",
       "      fill: #174EA6;\n",
       "    }\n",
       "\n",
       "    [theme=dark] .colab-df-convert {\n",
       "      background-color: #3B4455;\n",
       "      fill: #D2E3FC;\n",
       "    }\n",
       "\n",
       "    [theme=dark] .colab-df-convert:hover {\n",
       "      background-color: #434B5C;\n",
       "      box-shadow: 0px 1px 3px 1px rgba(0, 0, 0, 0.15);\n",
       "      filter: drop-shadow(0px 1px 2px rgba(0, 0, 0, 0.3));\n",
       "      fill: #FFFFFF;\n",
       "    }\n",
       "  </style>\n",
       "\n",
       "      <script>\n",
       "        const buttonEl =\n",
       "          document.querySelector('#df-81774ca6-bcee-4dde-a1c2-631457b10d10 button.colab-df-convert');\n",
       "        buttonEl.style.display =\n",
       "          google.colab.kernel.accessAllowed ? 'block' : 'none';\n",
       "\n",
       "        async function convertToInteractive(key) {\n",
       "          const element = document.querySelector('#df-81774ca6-bcee-4dde-a1c2-631457b10d10');\n",
       "          const dataTable =\n",
       "            await google.colab.kernel.invokeFunction('convertToInteractive',\n",
       "                                                     [key], {});\n",
       "          if (!dataTable) return;\n",
       "\n",
       "          const docLinkHtml = 'Like what you see? Visit the ' +\n",
       "            '<a target=\"_blank\" href=https://colab.research.google.com/notebooks/data_table.ipynb>data table notebook</a>'\n",
       "            + ' to learn more about interactive tables.';\n",
       "          element.innerHTML = '';\n",
       "          dataTable['output_type'] = 'display_data';\n",
       "          await google.colab.output.renderOutput(dataTable, element);\n",
       "          const docLink = document.createElement('div');\n",
       "          docLink.innerHTML = docLinkHtml;\n",
       "          element.appendChild(docLink);\n",
       "        }\n",
       "      </script>\n",
       "    </div>\n",
       "  </div>\n"
      ]
     },
     "metadata": {},
     "execution_count": 25
    }
   ]
  },
  {
   "cell_type": "code",
   "source": [
    "meta_df = pd.read_csv(\"HAM10000_metadata (1).csv\")\n",
    "meta_df.head()"
   ],
   "metadata": {
    "colab": {
     "base_uri": "https://localhost:8080/",
     "height": 206
    },
    "id": "oWLRWZD351tm",
    "outputId": "b0a27c34-5c51-434d-b771-9fcd5aa39781"
   },
   "execution_count": 26,
   "outputs": [
    {
     "output_type": "execute_result",
     "data": {
      "text/plain": [
       "     lesion_id      image_id   dx dx_type   age   sex localization\n",
       "0  HAM_0000118  ISIC_0027419  bkl   histo  80.0  male        scalp\n",
       "1  HAM_0000118  ISIC_0025030  bkl   histo  80.0  male        scalp\n",
       "2  HAM_0002730  ISIC_0026769  bkl   histo  80.0  male        scalp\n",
       "3  HAM_0002730  ISIC_0025661  bkl   histo  80.0  male        scalp\n",
       "4  HAM_0001466  ISIC_0031633  bkl   histo  75.0  male          ear"
      ],
      "text/html": [
       "\n",
       "\n",
       "  <div id=\"df-0ca5b957-8269-4579-bd16-65608ec0210c\">\n",
       "    <div class=\"colab-df-container\">\n",
       "      <div>\n",
       "<style scoped>\n",
       "    .dataframe tbody tr th:only-of-type {\n",
       "        vertical-align: middle;\n",
       "    }\n",
       "\n",
       "    .dataframe tbody tr th {\n",
       "        vertical-align: top;\n",
       "    }\n",
       "\n",
       "    .dataframe thead th {\n",
       "        text-align: right;\n",
       "    }\n",
       "</style>\n",
       "<table border=\"1\" class=\"dataframe\">\n",
       "  <thead>\n",
       "    <tr style=\"text-align: right;\">\n",
       "      <th></th>\n",
       "      <th>lesion_id</th>\n",
       "      <th>image_id</th>\n",
       "      <th>dx</th>\n",
       "      <th>dx_type</th>\n",
       "      <th>age</th>\n",
       "      <th>sex</th>\n",
       "      <th>localization</th>\n",
       "    </tr>\n",
       "  </thead>\n",
       "  <tbody>\n",
       "    <tr>\n",
       "      <th>0</th>\n",
       "      <td>HAM_0000118</td>\n",
       "      <td>ISIC_0027419</td>\n",
       "      <td>bkl</td>\n",
       "      <td>histo</td>\n",
       "      <td>80.0</td>\n",
       "      <td>male</td>\n",
       "      <td>scalp</td>\n",
       "    </tr>\n",
       "    <tr>\n",
       "      <th>1</th>\n",
       "      <td>HAM_0000118</td>\n",
       "      <td>ISIC_0025030</td>\n",
       "      <td>bkl</td>\n",
       "      <td>histo</td>\n",
       "      <td>80.0</td>\n",
       "      <td>male</td>\n",
       "      <td>scalp</td>\n",
       "    </tr>\n",
       "    <tr>\n",
       "      <th>2</th>\n",
       "      <td>HAM_0002730</td>\n",
       "      <td>ISIC_0026769</td>\n",
       "      <td>bkl</td>\n",
       "      <td>histo</td>\n",
       "      <td>80.0</td>\n",
       "      <td>male</td>\n",
       "      <td>scalp</td>\n",
       "    </tr>\n",
       "    <tr>\n",
       "      <th>3</th>\n",
       "      <td>HAM_0002730</td>\n",
       "      <td>ISIC_0025661</td>\n",
       "      <td>bkl</td>\n",
       "      <td>histo</td>\n",
       "      <td>80.0</td>\n",
       "      <td>male</td>\n",
       "      <td>scalp</td>\n",
       "    </tr>\n",
       "    <tr>\n",
       "      <th>4</th>\n",
       "      <td>HAM_0001466</td>\n",
       "      <td>ISIC_0031633</td>\n",
       "      <td>bkl</td>\n",
       "      <td>histo</td>\n",
       "      <td>75.0</td>\n",
       "      <td>male</td>\n",
       "      <td>ear</td>\n",
       "    </tr>\n",
       "  </tbody>\n",
       "</table>\n",
       "</div>\n",
       "      <button class=\"colab-df-convert\" onclick=\"convertToInteractive('df-0ca5b957-8269-4579-bd16-65608ec0210c')\"\n",
       "              title=\"Convert this dataframe to an interactive table.\"\n",
       "              style=\"display:none;\">\n",
       "\n",
       "  <svg xmlns=\"http://www.w3.org/2000/svg\" height=\"24px\"viewBox=\"0 0 24 24\"\n",
       "       width=\"24px\">\n",
       "    <path d=\"M0 0h24v24H0V0z\" fill=\"none\"/>\n",
       "    <path d=\"M18.56 5.44l.94 2.06.94-2.06 2.06-.94-2.06-.94-.94-2.06-.94 2.06-2.06.94zm-11 1L8.5 8.5l.94-2.06 2.06-.94-2.06-.94L8.5 2.5l-.94 2.06-2.06.94zm10 10l.94 2.06.94-2.06 2.06-.94-2.06-.94-.94-2.06-.94 2.06-2.06.94z\"/><path d=\"M17.41 7.96l-1.37-1.37c-.4-.4-.92-.59-1.43-.59-.52 0-1.04.2-1.43.59L10.3 9.45l-7.72 7.72c-.78.78-.78 2.05 0 2.83L4 21.41c.39.39.9.59 1.41.59.51 0 1.02-.2 1.41-.59l7.78-7.78 2.81-2.81c.8-.78.8-2.07 0-2.86zM5.41 20L4 18.59l7.72-7.72 1.47 1.35L5.41 20z\"/>\n",
       "  </svg>\n",
       "      </button>\n",
       "\n",
       "\n",
       "\n",
       "    <div id=\"df-e0da1656-a91d-4793-a4a3-c796d6a61877\">\n",
       "      <button class=\"colab-df-quickchart\" onclick=\"quickchart('df-e0da1656-a91d-4793-a4a3-c796d6a61877')\"\n",
       "              title=\"Suggest charts.\"\n",
       "              style=\"display:none;\">\n",
       "\n",
       "<svg xmlns=\"http://www.w3.org/2000/svg\" height=\"24px\"viewBox=\"0 0 24 24\"\n",
       "     width=\"24px\">\n",
       "    <g>\n",
       "        <path d=\"M19 3H5c-1.1 0-2 .9-2 2v14c0 1.1.9 2 2 2h14c1.1 0 2-.9 2-2V5c0-1.1-.9-2-2-2zM9 17H7v-7h2v7zm4 0h-2V7h2v10zm4 0h-2v-4h2v4z\"/>\n",
       "    </g>\n",
       "</svg>\n",
       "      </button>\n",
       "    </div>\n",
       "\n",
       "<style>\n",
       "  .colab-df-quickchart {\n",
       "    background-color: #E8F0FE;\n",
       "    border: none;\n",
       "    border-radius: 50%;\n",
       "    cursor: pointer;\n",
       "    display: none;\n",
       "    fill: #1967D2;\n",
       "    height: 32px;\n",
       "    padding: 0 0 0 0;\n",
       "    width: 32px;\n",
       "  }\n",
       "\n",
       "  .colab-df-quickchart:hover {\n",
       "    background-color: #E2EBFA;\n",
       "    box-shadow: 0px 1px 2px rgba(60, 64, 67, 0.3), 0px 1px 3px 1px rgba(60, 64, 67, 0.15);\n",
       "    fill: #174EA6;\n",
       "  }\n",
       "\n",
       "  [theme=dark] .colab-df-quickchart {\n",
       "    background-color: #3B4455;\n",
       "    fill: #D2E3FC;\n",
       "  }\n",
       "\n",
       "  [theme=dark] .colab-df-quickchart:hover {\n",
       "    background-color: #434B5C;\n",
       "    box-shadow: 0px 1px 3px 1px rgba(0, 0, 0, 0.15);\n",
       "    filter: drop-shadow(0px 1px 2px rgba(0, 0, 0, 0.3));\n",
       "    fill: #FFFFFF;\n",
       "  }\n",
       "</style>\n",
       "\n",
       "    <script>\n",
       "      async function quickchart(key) {\n",
       "        const containerElement = document.querySelector('#' + key);\n",
       "        const charts = await google.colab.kernel.invokeFunction(\n",
       "            'suggestCharts', [key], {});\n",
       "      }\n",
       "    </script>\n",
       "\n",
       "      <script>\n",
       "\n",
       "function displayQuickchartButton(domScope) {\n",
       "  let quickchartButtonEl =\n",
       "    domScope.querySelector('#df-e0da1656-a91d-4793-a4a3-c796d6a61877 button.colab-df-quickchart');\n",
       "  quickchartButtonEl.style.display =\n",
       "    google.colab.kernel.accessAllowed ? 'block' : 'none';\n",
       "}\n",
       "\n",
       "        displayQuickchartButton(document);\n",
       "      </script>\n",
       "      <style>\n",
       "    .colab-df-container {\n",
       "      display:flex;\n",
       "      flex-wrap:wrap;\n",
       "      gap: 12px;\n",
       "    }\n",
       "\n",
       "    .colab-df-convert {\n",
       "      background-color: #E8F0FE;\n",
       "      border: none;\n",
       "      border-radius: 50%;\n",
       "      cursor: pointer;\n",
       "      display: none;\n",
       "      fill: #1967D2;\n",
       "      height: 32px;\n",
       "      padding: 0 0 0 0;\n",
       "      width: 32px;\n",
       "    }\n",
       "\n",
       "    .colab-df-convert:hover {\n",
       "      background-color: #E2EBFA;\n",
       "      box-shadow: 0px 1px 2px rgba(60, 64, 67, 0.3), 0px 1px 3px 1px rgba(60, 64, 67, 0.15);\n",
       "      fill: #174EA6;\n",
       "    }\n",
       "\n",
       "    [theme=dark] .colab-df-convert {\n",
       "      background-color: #3B4455;\n",
       "      fill: #D2E3FC;\n",
       "    }\n",
       "\n",
       "    [theme=dark] .colab-df-convert:hover {\n",
       "      background-color: #434B5C;\n",
       "      box-shadow: 0px 1px 3px 1px rgba(0, 0, 0, 0.15);\n",
       "      filter: drop-shadow(0px 1px 2px rgba(0, 0, 0, 0.3));\n",
       "      fill: #FFFFFF;\n",
       "    }\n",
       "  </style>\n",
       "\n",
       "      <script>\n",
       "        const buttonEl =\n",
       "          document.querySelector('#df-0ca5b957-8269-4579-bd16-65608ec0210c button.colab-df-convert');\n",
       "        buttonEl.style.display =\n",
       "          google.colab.kernel.accessAllowed ? 'block' : 'none';\n",
       "\n",
       "        async function convertToInteractive(key) {\n",
       "          const element = document.querySelector('#df-0ca5b957-8269-4579-bd16-65608ec0210c');\n",
       "          const dataTable =\n",
       "            await google.colab.kernel.invokeFunction('convertToInteractive',\n",
       "                                                     [key], {});\n",
       "          if (!dataTable) return;\n",
       "\n",
       "          const docLinkHtml = 'Like what you see? Visit the ' +\n",
       "            '<a target=\"_blank\" href=https://colab.research.google.com/notebooks/data_table.ipynb>data table notebook</a>'\n",
       "            + ' to learn more about interactive tables.';\n",
       "          element.innerHTML = '';\n",
       "          dataTable['output_type'] = 'display_data';\n",
       "          await google.colab.output.renderOutput(dataTable, element);\n",
       "          const docLink = document.createElement('div');\n",
       "          docLink.innerHTML = docLinkHtml;\n",
       "          element.appendChild(docLink);\n",
       "        }\n",
       "      </script>\n",
       "    </div>\n",
       "  </div>\n"
      ]
     },
     "metadata": {},
     "execution_count": 26
    }
   ]
  },
  {
   "cell_type": "code",
   "source": [],
   "metadata": {
    "id": "jUAE9FT3TO2U"
   },
   "execution_count": 26,
   "outputs": []
  },
  {
   "cell_type": "code",
   "source": [],
   "metadata": {
    "id": "XkLUY8HVHBXf"
   },
   "execution_count": 26,
   "outputs": []
  },
  {
   "cell_type": "code",
   "source": [
    "meta_df.shape"
   ],
   "metadata": {
    "colab": {
     "base_uri": "https://localhost:8080/"
    },
    "id": "PMmZukrx55iC",
    "outputId": "61222205-1132-48c2-e022-2542ac4d0a99"
   },
   "execution_count": 27,
   "outputs": [
    {
     "output_type": "execute_result",
     "data": {
      "text/plain": [
       "(10015, 7)"
      ]
     },
     "metadata": {},
     "execution_count": 27
    }
   ]
  },
  {
   "cell_type": "code",
   "source": [
    "data.shape"
   ],
   "metadata": {
    "colab": {
     "base_uri": "https://localhost:8080/"
    },
    "id": "Aln5D1ad58dj",
    "outputId": "fe533032-0d4d-47d1-b74b-ba7a8b2434e4"
   },
   "execution_count": 28,
   "outputs": [
    {
     "output_type": "execute_result",
     "data": {
      "text/plain": [
       "(1248, 2353)"
      ]
     },
     "metadata": {},
     "execution_count": 28
    }
   ]
  },
  {
   "cell_type": "code",
   "source": [
    "data.describe"
   ],
   "metadata": {
    "colab": {
     "base_uri": "https://localhost:8080/"
    },
    "id": "EZd7t75H9Hi3",
    "outputId": "94570425-1014-41ab-be43-ccbb5f9f299a"
   },
   "execution_count": 29,
   "outputs": [
    {
     "output_type": "execute_result",
     "data": {
      "text/plain": [
       "<bound method NDFrame.describe of       pixel0000  pixel0001  pixel0002  pixel0003  pixel0004  pixel0005  \\\n",
       "0           192        153        193        195        155        192   \n",
       "1            25         14         30         68         48         75   \n",
       "2           192        138        153        200        145        163   \n",
       "3            38         19         30         95         59         72   \n",
       "4           158        113        139        194        144        174   \n",
       "...         ...        ...        ...        ...        ...        ...   \n",
       "1243        213        177        202        214        181        205   \n",
       "1244        127        105         95        137        113         99   \n",
       "1245        139        108         95        149        119        112   \n",
       "1246        188        152        160        189        154        159   \n",
       "1247        200        163        196        202        164        191   \n",
       "\n",
       "      pixel0006  pixel0007  pixel0008  pixel0009  ...  pixel2343  pixel2344  \\\n",
       "0           197        154        185        202  ...      173.0      124.0   \n",
       "1           123         93        126        158  ...       60.0       39.0   \n",
       "2           201        142        160        206  ...      167.0      129.0   \n",
       "3           143        103        119        171  ...       44.0       26.0   \n",
       "4           215        162        191        225  ...      209.0      166.0   \n",
       "...         ...        ...        ...        ...  ...        ...        ...   \n",
       "1243        218        186        215        218  ...      215.0      165.0   \n",
       "1244        177        154        153        173  ...       61.0       51.0   \n",
       "1245        155        126        123        159  ...      158.0      128.0   \n",
       "1246        191        154        164        196  ...      179.0      145.0   \n",
       "1247        203        165        190        193  ...        NaN        NaN   \n",
       "\n",
       "      pixel2345  pixel2346  pixel2347  pixel2348  pixel2349  pixel2350  \\\n",
       "0         138.0      183.0      147.0      166.0      185.0      154.0   \n",
       "1          55.0       25.0       14.0       28.0       25.0       14.0   \n",
       "2         143.0      159.0      124.0      142.0      136.0      104.0   \n",
       "3          36.0       25.0       12.0       17.0       25.0       12.0   \n",
       "4         185.0      172.0      135.0      149.0      109.0       78.0   \n",
       "...         ...        ...        ...        ...        ...        ...   \n",
       "1243      198.0      212.0      162.0      196.0      209.0      160.0   \n",
       "1244       52.0       19.0       16.0       18.0        2.0        0.0   \n",
       "1245      119.0      144.0      116.0      102.0       98.0       77.0   \n",
       "1246      149.0      180.0      147.0      152.0      176.0      143.0   \n",
       "1247        NaN        NaN        NaN        NaN        NaN        NaN   \n",
       "\n",
       "      pixel2351  label  \n",
       "0         177.0    2.0  \n",
       "1          27.0    2.0  \n",
       "2         117.0    2.0  \n",
       "3          15.0    2.0  \n",
       "4          92.0    2.0  \n",
       "...         ...    ...  \n",
       "1243      194.0    6.0  \n",
       "1244        2.0    6.0  \n",
       "1245       66.0    6.0  \n",
       "1246      149.0    6.0  \n",
       "1247        NaN    NaN  \n",
       "\n",
       "[1248 rows x 2353 columns]>"
      ]
     },
     "metadata": {},
     "execution_count": 29
    }
   ]
  },
  {
   "cell_type": "code",
   "source": [
    "data.isnull().sum()\n",
    "#1248"
   ],
   "metadata": {
    "colab": {
     "base_uri": "https://localhost:8080/"
    },
    "id": "GE4xYstU7Jup",
    "outputId": "50aacf71-5d93-4d5d-df00-f2f94075c819"
   },
   "execution_count": 38,
   "outputs": [
    {
     "output_type": "execute_result",
     "data": {
      "text/plain": [
       "pixel0000    0\n",
       "pixel0001    0\n",
       "pixel0002    0\n",
       "pixel0003    0\n",
       "pixel0004    0\n",
       "            ..\n",
       "pixel2348    1\n",
       "pixel2349    1\n",
       "pixel2350    1\n",
       "pixel2351    1\n",
       "label        1\n",
       "Length: 2353, dtype: int64"
      ]
     },
     "metadata": {},
     "execution_count": 38
    }
   ]
  },
  {
   "cell_type": "code",
   "source": [
    "data.dropna(inplace=True)"
   ],
   "metadata": {
    "id": "jbTlrYhx7QOw"
   },
   "execution_count": 39,
   "outputs": []
  },
  {
   "cell_type": "code",
   "source": [
    "data.isnull().sum()"
   ],
   "metadata": {
    "colab": {
     "base_uri": "https://localhost:8080/"
    },
    "id": "sZEalZCN70jB",
    "outputId": "a372b113-2c03-4d69-adba-101da5bf781e"
   },
   "execution_count": 40,
   "outputs": [
    {
     "output_type": "execute_result",
     "data": {
      "text/plain": [
       "pixel0000    0\n",
       "pixel0001    0\n",
       "pixel0002    0\n",
       "pixel0003    0\n",
       "pixel0004    0\n",
       "            ..\n",
       "pixel2348    0\n",
       "pixel2349    0\n",
       "pixel2350    0\n",
       "pixel2351    0\n",
       "label        0\n",
       "Length: 2353, dtype: int64"
      ]
     },
     "metadata": {},
     "execution_count": 40
    }
   ]
  },
  {
   "cell_type": "code",
   "source": [
    "yData = data['label']\n",
    "XData = data.drop(columns = ['label'])"
   ],
   "metadata": {
    "id": "C5jGVdEn6BYi"
   },
   "execution_count": 41,
   "outputs": []
  },
  {
   "cell_type": "code",
   "source": [],
   "metadata": {
    "id": "Qc37eSRO7HFE"
   },
   "execution_count": 33,
   "outputs": []
  },
  {
   "cell_type": "code",
   "source": [
    "distribution = meta_df['dx'].value_counts()\n",
    "distribution"
   ],
   "metadata": {
    "colab": {
     "base_uri": "https://localhost:8080/"
    },
    "id": "B8BxO2zR6FeJ",
    "outputId": "6e0063ac-9c58-4e1f-f7f3-115f8d39ac33"
   },
   "execution_count": 42,
   "outputs": [
    {
     "output_type": "execute_result",
     "data": {
      "text/plain": [
       "nv       6705\n",
       "mel      1113\n",
       "bkl      1099\n",
       "bcc       514\n",
       "akiec     327\n",
       "vasc      142\n",
       "df        115\n",
       "Name: dx, dtype: int64"
      ]
     },
     "metadata": {},
     "execution_count": 42
    }
   ]
  },
  {
   "cell_type": "code",
   "source": [
    "dist = data['label'].value_counts()\n",
    "dist"
   ],
   "metadata": {
    "colab": {
     "base_uri": "https://localhost:8080/"
    },
    "id": "8YWd5lcC6quL",
    "outputId": "e4816054-1d9b-4d0c-f3ac-e2e61b6be73e"
   },
   "execution_count": 43,
   "outputs": [
    {
     "output_type": "execute_result",
     "data": {
      "text/plain": [
       "2.0    1094\n",
       "3.0     115\n",
       "6.0      36\n",
       "4.0       2\n",
       "Name: label, dtype: int64"
      ]
     },
     "metadata": {},
     "execution_count": 43
    }
   ]
  },
  {
   "cell_type": "code",
   "source": [
    "distribution.plot()"
   ],
   "metadata": {
    "colab": {
     "base_uri": "https://localhost:8080/",
     "height": 451
    },
    "id": "FshGwP_c6tPS",
    "outputId": "a49808e9-7535-4ce6-a62e-be1ca131dfd0"
   },
   "execution_count": 44,
   "outputs": [
    {
     "output_type": "execute_result",
     "data": {
      "text/plain": [
       "<Axes: >"
      ]
     },
     "metadata": {},
     "execution_count": 44
    },
    {
     "output_type": "display_data",
     "data": {
      "text/plain": [
       "<Figure size 640x480 with 1 Axes>"
      ],
      "image/png": "[encoded data removed]"
     },
     "metadata": {}
    }
   ]
  },
  {
   "cell_type": "code",
   "source": [
    "from imblearn.over_sampling import RandomOverSampler\n",
    "sampler = RandomOverSampler()\n",
    "XData,yData  = sampler.fit_resample(XData,yData)\n",
    "XData.shape, yData.shape\n"
   ],
   "metadata": {
    "colab": {
     "base_uri": "https://localhost:8080/"
    },
    "id": "SC0bDP4P6uOU",
    "outputId": "c9df1407-aa61-46c0-a09f-3862fc73d916"
   },
   "execution_count": 46,
   "outputs": [
    {
     "output_type": "execute_result",
     "data": {
      "text/plain": [
       "((4376, 2352), (4376,))"
      ]
     },
     "metadata": {},
     "execution_count": 46
    }
   ]
  },
  {
   "cell_type": "code",
   "source": [
    "XData = np.array(XData).reshape((-1, 28, 28, 3))\n",
    "XData = XData / 255\n",
    "XData.shape"
   ],
   "metadata": {
    "id": "EUjU04gV-Cdc",
    "colab": {
     "base_uri": "https://localhost:8080/"
    },
    "outputId": "cb8ab100-b1bd-4044-a30c-7640c5d72913"
   },
   "execution_count": 47,
   "outputs": [
    {
     "output_type": "execute_result",
     "data": {
      "text/plain": [
       "(4376, 28, 28, 3)"
      ]
     },
     "metadata": {},
     "execution_count": 47
    }
   ]
  },
  {
   "cell_type": "code",
   "source": [
    "from sklearn.model_selection import train_test_split\n",
    "Xtrain, Xtest, Ytrain, Ytest = train_test_split(XData,yData, test_size=0.2)\n",
    "Xtrain.shape, Xtest.shape"
   ],
   "metadata": {
    "id": "qJdD_Lel-F0L",
    "colab": {
     "base_uri": "https://localhost:8080/"
    },
    "outputId": "c95c051d-8662-4202-ecc6-34abce91424c"
   },
   "execution_count": 48,
   "outputs": [
    {
     "output_type": "execute_result",
     "data": {
      "text/plain": [
       "((3500, 28, 28, 3), (876, 28, 28, 3))"
      ]
     },
     "metadata": {},
     "execution_count": 48
    }
   ]
  },
  {
   "cell_type": "code",
   "source": [
    "print(Xtrain)"
   ],
   "metadata": {
    "id": "zM_M6rGZUW7x",
    "colab": {
     "base_uri": "https://localhost:8080/"
    },
    "outputId": "61c9ff09-3f44-4358-b1e1-28cd538e9ad3"
   },
   "execution_count": 49,
   "outputs": [
    {
     "output_type": "stream",
     "name": "stdout",
     "text": [
      "[[[[0.77254902 0.4627451  0.61960784]\n",
      "   [0.78431373 0.47058824 0.62745098]\n",
      "   [0.78823529 0.44313725 0.64313725]\n",
      "   ...\n",
      "   [0.85490196 0.52941176 0.71764706]\n",
      "   [0.83529412 0.48235294 0.69019608]\n",
      "   [0.83921569 0.50196078 0.70980392]]\n",
      "\n",
      "  [[0.77254902 0.43921569 0.56470588]\n",
      "   [0.77647059 0.44705882 0.56470588]\n",
      "   [0.79607843 0.45098039 0.62352941]\n",
      "   ...\n",
      "   [0.86666667 0.57254902 0.76470588]\n",
      "   [0.85490196 0.5372549  0.72941176]\n",
      "   [0.84705882 0.51372549 0.70980392]]\n",
      "\n",
      "  [[0.76078431 0.40784314 0.52156863]\n",
      "   [0.78039216 0.43921569 0.5372549 ]\n",
      "   [0.80392157 0.45098039 0.58823529]\n",
      "   ...\n",
      "   [0.8745098  0.58431373 0.76078431]\n",
      "   [0.86666667 0.54509804 0.72941176]\n",
      "   [0.86666667 0.55294118 0.75294118]]\n",
      "\n",
      "  ...\n",
      "\n",
      "  [[0.77254902 0.49803922 0.60392157]\n",
      "   [0.80392157 0.51764706 0.65882353]\n",
      "   [0.83137255 0.58431373 0.71764706]\n",
      "   ...\n",
      "   [0.87058824 0.67843137 0.81960784]\n",
      "   [0.85098039 0.61176471 0.74509804]\n",
      "   [0.85098039 0.63529412 0.78039216]]\n",
      "\n",
      "  [[0.78039216 0.50588235 0.64705882]\n",
      "   [0.81568627 0.55686275 0.69411765]\n",
      "   [0.83137255 0.57647059 0.7254902 ]\n",
      "   ...\n",
      "   [0.85098039 0.63137255 0.78039216]\n",
      "   [0.84313725 0.61176471 0.74509804]\n",
      "   [0.84313725 0.61568627 0.75294118]]\n",
      "\n",
      "  [[0.76470588 0.49411765 0.63137255]\n",
      "   [0.80392157 0.56470588 0.68235294]\n",
      "   [0.81568627 0.56862745 0.69803922]\n",
      "   ...\n",
      "   [0.84705882 0.63137255 0.77254902]\n",
      "   [0.83921569 0.61960784 0.75686275]\n",
      "   [0.83529412 0.63921569 0.79215686]]]\n",
      "\n",
      "\n",
      " [[[0.71764706 0.61568627 0.74901961]\n",
      "   [0.72156863 0.62352941 0.76078431]\n",
      "   [0.71372549 0.60784314 0.7372549 ]\n",
      "   ...\n",
      "   [0.70980392 0.61176471 0.73333333]\n",
      "   [0.69411765 0.59215686 0.70196078]\n",
      "   [0.64705882 0.53333333 0.61568627]]\n",
      "\n",
      "  [[0.72156863 0.61568627 0.75686275]\n",
      "   [0.72156863 0.62352941 0.76078431]\n",
      "   [0.70588235 0.60392157 0.7254902 ]\n",
      "   ...\n",
      "   [0.72156863 0.61960784 0.74901961]\n",
      "   [0.73333333 0.63137255 0.75686275]\n",
      "   [0.72156863 0.61960784 0.72156863]]\n",
      "\n",
      "  [[0.70980392 0.59607843 0.72156863]\n",
      "   [0.70196078 0.59607843 0.71764706]\n",
      "   [0.72941176 0.62745098 0.74509804]\n",
      "   ...\n",
      "   [0.7254902  0.61960784 0.76078431]\n",
      "   [0.72156863 0.61960784 0.74509804]\n",
      "   [0.71764706 0.61568627 0.72941176]]\n",
      "\n",
      "  ...\n",
      "\n",
      "  [[0.68235294 0.58823529 0.7254902 ]\n",
      "   [0.66666667 0.57254902 0.71764706]\n",
      "   [0.65490196 0.55686275 0.69019608]\n",
      "   ...\n",
      "   [0.69803922 0.59607843 0.70196078]\n",
      "   [0.70196078 0.6        0.70588235]\n",
      "   [0.69411765 0.58431373 0.68235294]]\n",
      "\n",
      "  [[0.67843137 0.58039216 0.72156863]\n",
      "   [0.6627451  0.56862745 0.70980392]\n",
      "   [0.64313725 0.54901961 0.68627451]\n",
      "   ...\n",
      "   [0.69019608 0.58431373 0.69803922]\n",
      "   [0.70196078 0.59607843 0.70196078]\n",
      "   [0.69411765 0.58039216 0.68627451]]\n",
      "\n",
      "  [[0.66666667 0.56862745 0.69803922]\n",
      "   [0.67058824 0.56470588 0.70196078]\n",
      "   [0.6745098  0.57254902 0.69803922]\n",
      "   ...\n",
      "   [0.68235294 0.56862745 0.67843137]\n",
      "   [0.69019608 0.57647059 0.68235294]\n",
      "   [0.6745098  0.56078431 0.65882353]]]\n",
      "\n",
      "\n",
      " [[[0.68235294 0.59607843 0.62352941]\n",
      "   [0.70196078 0.62352941 0.65490196]\n",
      "   [0.72156863 0.65098039 0.68235294]\n",
      "   ...\n",
      "   [0.68627451 0.63137255 0.69411765]\n",
      "   [0.64705882 0.58431373 0.64705882]\n",
      "   [0.62352941 0.55686275 0.61176471]]\n",
      "\n",
      "  [[0.68627451 0.6        0.63529412]\n",
      "   [0.71764706 0.64313725 0.68235294]\n",
      "   [0.74117647 0.67058824 0.70980392]\n",
      "   ...\n",
      "   [0.69411765 0.63921569 0.69803922]\n",
      "   [0.65098039 0.58823529 0.64313725]\n",
      "   [0.58039216 0.49019608 0.52941176]]\n",
      "\n",
      "  [[0.71372549 0.63921569 0.68235294]\n",
      "   [0.72156863 0.64705882 0.68235294]\n",
      "   [0.76078431 0.70196078 0.75294118]\n",
      "   ...\n",
      "   [0.67843137 0.61960784 0.67058824]\n",
      "   [0.6        0.51764706 0.55294118]\n",
      "   [0.6        0.52156863 0.56470588]]\n",
      "\n",
      "  ...\n",
      "\n",
      "  [[0.61176471 0.54509804 0.59607843]\n",
      "   [0.63137255 0.56470588 0.62745098]\n",
      "   [0.6627451  0.61176471 0.68627451]\n",
      "   ...\n",
      "   [0.64705882 0.58823529 0.64313725]\n",
      "   [0.63137255 0.57254902 0.62745098]\n",
      "   [0.58823529 0.53333333 0.59215686]]\n",
      "\n",
      "  [[0.60784314 0.54901961 0.60392157]\n",
      "   [0.61568627 0.55294118 0.60784314]\n",
      "   [0.63529412 0.57647059 0.64313725]\n",
      "   ...\n",
      "   [0.57647059 0.52941176 0.58431373]\n",
      "   [0.61960784 0.56078431 0.60784314]\n",
      "   [0.59215686 0.52941176 0.57647059]]\n",
      "\n",
      "  [[0.58823529 0.5254902  0.58431373]\n",
      "   [0.60392157 0.5372549  0.58431373]\n",
      "   [0.60392157 0.5372549  0.59215686]\n",
      "   ...\n",
      "   [0.59607843 0.54901961 0.60784314]\n",
      "   [0.58039216 0.52156863 0.56470588]\n",
      "   [0.56470588 0.49411765 0.52156863]]]\n",
      "\n",
      "\n",
      " ...\n",
      "\n",
      "\n",
      " [[[0.60784314 0.43921569 0.46666667]\n",
      "   [0.63529412 0.4745098  0.50196078]\n",
      "   [0.65098039 0.4745098  0.50196078]\n",
      "   ...\n",
      "   [0.7254902  0.62745098 0.65882353]\n",
      "   [0.62745098 0.51764706 0.54901961]\n",
      "   [0.68235294 0.56862745 0.59607843]]\n",
      "\n",
      "  [[0.60784314 0.43137255 0.4627451 ]\n",
      "   [0.63921569 0.48235294 0.52156863]\n",
      "   [0.6627451  0.50588235 0.5372549 ]\n",
      "   ...\n",
      "   [0.7254902  0.62352941 0.65098039]\n",
      "   [0.70980392 0.61176471 0.63921569]\n",
      "   [0.70588235 0.61568627 0.63921569]]\n",
      "\n",
      "  [[0.61176471 0.43529412 0.45098039]\n",
      "   [0.64705882 0.48627451 0.52156863]\n",
      "   [0.69019608 0.55686275 0.58823529]\n",
      "   ...\n",
      "   [0.70196078 0.56470588 0.56470588]\n",
      "   [0.71372549 0.6        0.61960784]\n",
      "   [0.69803922 0.59215686 0.61568627]]\n",
      "\n",
      "  ...\n",
      "\n",
      "  [[0.6        0.44313725 0.47058824]\n",
      "   [0.61568627 0.45098039 0.48627451]\n",
      "   [0.62352941 0.45098039 0.48235294]\n",
      "   ...\n",
      "   [0.69019608 0.55686275 0.58823529]\n",
      "   [0.69411765 0.57254902 0.60392157]\n",
      "   [0.66666667 0.52941176 0.55686275]]\n",
      "\n",
      "  [[0.6        0.45098039 0.48235294]\n",
      "   [0.61568627 0.46666667 0.51372549]\n",
      "   [0.62745098 0.45490196 0.48627451]\n",
      "   ...\n",
      "   [0.68235294 0.54901961 0.59215686]\n",
      "   [0.67058824 0.54509804 0.58039216]\n",
      "   [0.63921569 0.49803922 0.5254902 ]]\n",
      "\n",
      "  [[0.58823529 0.43921569 0.4745098 ]\n",
      "   [0.59215686 0.43137255 0.48627451]\n",
      "   [0.60784314 0.43921569 0.47843137]\n",
      "   ...\n",
      "   [0.65490196 0.49019608 0.5372549 ]\n",
      "   [0.64313725 0.49803922 0.53333333]\n",
      "   [0.63137255 0.49411765 0.51764706]]]\n",
      "\n",
      "\n",
      " [[[0.7254902  0.62745098 0.68627451]\n",
      "   [0.84705882 0.74901961 0.83529412]\n",
      "   [0.8627451  0.75294118 0.82745098]\n",
      "   ...\n",
      "   [0.9372549  0.8627451  0.9372549 ]\n",
      "   [0.88627451 0.79215686 0.89411765]\n",
      "   [0.78823529 0.69411765 0.8       ]]\n",
      "\n",
      "  [[0.8        0.70588235 0.77254902]\n",
      "   [0.89019608 0.80392157 0.87843137]\n",
      "   [0.89411765 0.80784314 0.89019608]\n",
      "   ...\n",
      "   [0.94509804 0.87843137 0.95294118]\n",
      "   [0.91764706 0.82745098 0.92156863]\n",
      "   [0.84705882 0.75294118 0.85490196]]\n",
      "\n",
      "  [[0.85882353 0.78039216 0.85098039]\n",
      "   [0.92156863 0.85098039 0.9254902 ]\n",
      "   [0.90196078 0.81176471 0.90196078]\n",
      "   ...\n",
      "   [0.94509804 0.87058824 0.96470588]\n",
      "   [0.93333333 0.85490196 0.94117647]\n",
      "   [0.88627451 0.79215686 0.88627451]]\n",
      "\n",
      "  ...\n",
      "\n",
      "  [[0.7372549  0.6627451  0.68627451]\n",
      "   [0.85098039 0.78431373 0.81176471]\n",
      "   [0.91372549 0.85490196 0.88235294]\n",
      "   ...\n",
      "   [0.89803922 0.75686275 0.95294118]\n",
      "   [0.84313725 0.69019608 0.90196078]\n",
      "   [0.75686275 0.60784314 0.81176471]]\n",
      "\n",
      "  [[0.65098039 0.57647059 0.59607843]\n",
      "   [0.81568627 0.74117647 0.78431373]\n",
      "   [0.87843137 0.81176471 0.83137255]\n",
      "   ...\n",
      "   [0.88235294 0.75294118 0.9254902 ]\n",
      "   [0.79607843 0.63921569 0.84313725]\n",
      "   [0.6745098  0.54117647 0.72156863]]\n",
      "\n",
      "  [[0.55686275 0.47843137 0.52156863]\n",
      "   [0.74509804 0.65882353 0.71764706]\n",
      "   [0.82745098 0.74901961 0.77254902]\n",
      "   ...\n",
      "   [0.83921569 0.71372549 0.89019608]\n",
      "   [0.71372549 0.55294118 0.7372549 ]\n",
      "   [0.56078431 0.42745098 0.58431373]]]\n",
      "\n",
      "\n",
      " [[[0.1372549  0.05490196 0.09019608]\n",
      "   [0.41960784 0.24313725 0.32156863]\n",
      "   [0.74117647 0.54117647 0.62745098]\n",
      "   ...\n",
      "   [0.74509804 0.55294118 0.65098039]\n",
      "   [0.52941176 0.34901961 0.46666667]\n",
      "   [0.23921569 0.12156863 0.20392157]]\n",
      "\n",
      "  [[0.27843137 0.1372549  0.19215686]\n",
      "   [0.60784314 0.38823529 0.44705882]\n",
      "   [0.82745098 0.63137255 0.69411765]\n",
      "   ...\n",
      "   [0.80784314 0.63137255 0.7254902 ]\n",
      "   [0.70196078 0.53333333 0.6627451 ]\n",
      "   [0.41568627 0.25098039 0.36078431]]\n",
      "\n",
      "  [[0.48235294 0.29019608 0.36078431]\n",
      "   [0.71372549 0.48627451 0.54117647]\n",
      "   [0.78823529 0.57647059 0.63137255]\n",
      "   ...\n",
      "   [0.81176471 0.63137255 0.72941176]\n",
      "   [0.76862745 0.58039216 0.6745098 ]\n",
      "   [0.55294118 0.35686275 0.45098039]]\n",
      "\n",
      "  ...\n",
      "\n",
      "  [[0.69803922 0.49411765 0.54901961]\n",
      "   [0.83529412 0.65882353 0.71372549]\n",
      "   [0.85098039 0.67058824 0.72156863]\n",
      "   ...\n",
      "   [0.84705882 0.63137255 0.68235294]\n",
      "   [0.85882353 0.65490196 0.70980392]\n",
      "   [0.76470588 0.52941176 0.56470588]]\n",
      "\n",
      "  [[0.56078431 0.36078431 0.43137255]\n",
      "   [0.78039216 0.57254902 0.63137255]\n",
      "   [0.84705882 0.65098039 0.70196078]\n",
      "   ...\n",
      "   [0.85098039 0.62352941 0.66666667]\n",
      "   [0.84313725 0.62745098 0.68627451]\n",
      "   [0.69019608 0.45490196 0.52156863]]\n",
      "\n",
      "  [[0.40392157 0.23921569 0.31372549]\n",
      "   [0.69411765 0.48627451 0.55686275]\n",
      "   [0.83529412 0.65098039 0.70980392]\n",
      "   ...\n",
      "   [0.85882353 0.63921569 0.6745098 ]\n",
      "   [0.79607843 0.56470588 0.63529412]\n",
      "   [0.59215686 0.38039216 0.48235294]]]]\n"
     ]
    }
   ]
  },
  {
   "cell_type": "code",
   "source": [
    "#Training the model\n",
    "from keras.models import Sequential\n",
    "from keras.layers import Conv2D, MaxPooling2D\n",
    "from keras.layers import Activation, Dropout, Flatten, Dense\n",
    "import tensorflow as tf\n",
    "\n",
    "img_width, img_height = 28,28"
   ],
   "metadata": {
    "id": "CHqfzCaV-KIb"
   },
   "execution_count": 50,
   "outputs": []
  },
  {
   "cell_type": "code",
   "source": [
    "input_shape = (img_width, img_height, 3)\n",
    "model = Sequential()\n",
    "model.add(Conv2D(32, (2, 2), input_shape=input_shape))\n",
    "model.add(Activation('swish'))\n",
    "model.add(MaxPooling2D(pool_size=(2, 2)))\n",
    "\n",
    "model.add(Conv2D(32, (2, 2)))\n",
    "model.add(Activation('swish'))\n",
    "model.add(MaxPooling2D(pool_size=(2, 2)))\n",
    "\n",
    "model.add(Conv2D(64, (2, 2)))\n",
    "model.add(Activation('swish'))\n",
    "model.add(MaxPooling2D(pool_size=(2, 2)))\n",
    "\n",
    "model.add(Flatten())\n",
    "model.add(Dense(64))\n",
    "model.add(Activation('swish'))\n",
    "model.add(Dropout(0.5))\n",
    "model.add(Dense(7))\n",
    "model.add(Activation('softmax'))"
   ],
   "metadata": {
    "id": "EWuokmDe-Pgz"
   },
   "execution_count": 51,
   "outputs": []
  },
  {
   "cell_type": "code",
   "source": [
    "model.compile(loss='sparse_categorical_crossentropy',\n",
    "optimizer='nadam',\n",
    "metrics=['accuracy'])"
   ],
   "metadata": {
    "id": "S-gD1qZ5-apz"
   },
   "execution_count": 52,
   "outputs": []
  },
  {
   "cell_type": "code",
   "source": [
    "callback = tf.keras.callbacks.ModelCheckpoint(filepath='best_model.h5',\n",
    "                                                  monitor='val_acc', mode='max',\n",
    "                                                 verbose=1)\n",
    "\n",
    "early_stopping = tf.keras.callbacks.EarlyStopping(patience=10, restore_best_weights=True)"
   ],
   "metadata": {
    "id": "a5SMS4ne-eH2"
   },
   "execution_count": 53,
   "outputs": []
  },
  {
   "cell_type": "code",
   "source": [
    "history = model.fit(Xtrain,\n",
    "                    Ytrain,\n",
    "                    epochs = 100,\n",
    "                    validation_data = (Xtest, Ytest),\n",
    "                    callbacks=[callback, early_stopping])"
   ],
   "metadata": {
    "id": "l3nB9-zF-hdl",
    "colab": {
     "base_uri": "https://localhost:8080/"
    },
    "outputId": "1d9c2b77-1f54-453f-f298-940ff5761731"
   },
   "execution_count": 54,
   "outputs": [
    {
     "output_type": "stream",
     "name": "stdout",
     "text": [
      "Epoch 1/100\n",
      "108/110 [============================>.] - ETA: 0s - loss: 1.4611 - accuracy: 0.2975\n",
      "Epoch 1: saving model to best_model.h5\n",
      "110/110 [==============================] - 9s 38ms/step - loss: 1.4591 - accuracy: 0.2986 - val_loss: 1.1421 - val_accuracy: 0.4521\n",
      "Epoch 2/100\n",
      "109/110 [============================>.] - ETA: 0s - loss: 1.0741 - accuracy: 0.5252\n",
      "Epoch 2: saving model to best_model.h5\n",
      "110/110 [==============================] - 4s 35ms/step - loss: 1.0747 - accuracy: 0.5246 - val_loss: 0.8404 - val_accuracy: 0.6507\n",
      "Epoch 3/100\n",
      "109/110 [============================>.] - ETA: 0s - loss: 0.7912 - accuracy: 0.6674\n",
      "Epoch 3: saving model to best_model.h5\n",
      "110/110 [==============================] - 5s 47ms/step - loss: 0.7914 - accuracy: 0.6674 - val_loss: 0.6558 - val_accuracy: 0.7123\n",
      "Epoch 4/100\n",
      "109/110 [============================>.] - ETA: 0s - loss: 0.6497 - accuracy: 0.7122\n",
      "Epoch 4: saving model to best_model.h5\n",
      "110/110 [==============================] - 4s 35ms/step - loss: 0.6515 - accuracy: 0.7111 - val_loss: 0.5668 - val_accuracy: 0.7705\n",
      "Epoch 5/100\n",
      "109/110 [============================>.] - ETA: 0s - loss: 0.5791 - accuracy: 0.7529\n",
      "Epoch 5: saving model to best_model.h5\n",
      "110/110 [==============================] - 4s 34ms/step - loss: 0.5785 - accuracy: 0.7534 - val_loss: 0.5068 - val_accuracy: 0.7785\n",
      "Epoch 6/100\n",
      "108/110 [============================>.] - ETA: 0s - loss: 0.5332 - accuracy: 0.7781\n",
      "Epoch 6: saving model to best_model.h5\n",
      "110/110 [==============================] - 7s 61ms/step - loss: 0.5318 - accuracy: 0.7783 - val_loss: 0.4870 - val_accuracy: 0.7934\n",
      "Epoch 7/100\n",
      "109/110 [============================>.] - ETA: 0s - loss: 0.4958 - accuracy: 0.7933\n",
      "Epoch 7: saving model to best_model.h5\n",
      "110/110 [==============================] - 4s 35ms/step - loss: 0.4951 - accuracy: 0.7937 - val_loss: 0.4273 - val_accuracy: 0.8071\n",
      "Epoch 8/100\n",
      "109/110 [============================>.] - ETA: 0s - loss: 0.4709 - accuracy: 0.8016\n",
      "Epoch 8: saving model to best_model.h5\n",
      "110/110 [==============================] - 4s 35ms/step - loss: 0.4706 - accuracy: 0.8017 - val_loss: 0.3978 - val_accuracy: 0.8082\n",
      "Epoch 9/100\n",
      "110/110 [==============================] - ETA: 0s - loss: 0.4330 - accuracy: 0.8231\n",
      "Epoch 9: saving model to best_model.h5\n",
      "110/110 [==============================] - 5s 47ms/step - loss: 0.4330 - accuracy: 0.8231 - val_loss: 0.3628 - val_accuracy: 0.8413\n",
      "Epoch 10/100\n",
      "109/110 [============================>.] - ETA: 0s - loss: 0.3966 - accuracy: 0.8283\n",
      "Epoch 10: saving model to best_model.h5\n",
      "110/110 [==============================] - 4s 38ms/step - loss: 0.3967 - accuracy: 0.8280 - val_loss: 0.3480 - val_accuracy: 0.8447\n",
      "Epoch 11/100\n",
      "109/110 [============================>.] - ETA: 0s - loss: 0.3611 - accuracy: 0.8486\n",
      "Epoch 11: saving model to best_model.h5\n",
      "110/110 [==============================] - 4s 35ms/step - loss: 0.3607 - accuracy: 0.8486 - val_loss: 0.5723 - val_accuracy: 0.7043\n",
      "Epoch 12/100\n",
      "108/110 [============================>.] - ETA: 0s - loss: 0.3413 - accuracy: 0.8585\n",
      "Epoch 12: saving model to best_model.h5\n",
      "110/110 [==============================] - 5s 50ms/step - loss: 0.3411 - accuracy: 0.8591 - val_loss: 0.2760 - val_accuracy: 0.8836\n",
      "Epoch 13/100\n",
      "109/110 [============================>.] - ETA: 0s - loss: 0.3038 - accuracy: 0.8733\n",
      "Epoch 13: saving model to best_model.h5\n",
      "110/110 [==============================] - 4s 35ms/step - loss: 0.3034 - accuracy: 0.8734 - val_loss: 0.2464 - val_accuracy: 0.9155\n",
      "Epoch 14/100\n",
      "109/110 [============================>.] - ETA: 0s - loss: 0.2928 - accuracy: 0.8790\n",
      "Epoch 14: saving model to best_model.h5\n",
      "110/110 [==============================] - 4s 35ms/step - loss: 0.2927 - accuracy: 0.8789 - val_loss: 0.2481 - val_accuracy: 0.9075\n",
      "Epoch 15/100\n",
      "109/110 [============================>.] - ETA: 0s - loss: 0.2641 - accuracy: 0.8971\n",
      "Epoch 15: saving model to best_model.h5\n",
      "110/110 [==============================] - 6s 59ms/step - loss: 0.2639 - accuracy: 0.8974 - val_loss: 0.2092 - val_accuracy: 0.9235\n",
      "Epoch 16/100\n",
      "109/110 [============================>.] - ETA: 0s - loss: 0.2410 - accuracy: 0.9077\n",
      "Epoch 16: saving model to best_model.h5\n",
      "110/110 [==============================] - 4s 35ms/step - loss: 0.2409 - accuracy: 0.9077 - val_loss: 0.2141 - val_accuracy: 0.9235\n",
      "Epoch 17/100\n",
      "109/110 [============================>.] - ETA: 0s - loss: 0.2056 - accuracy: 0.9232\n",
      "Epoch 17: saving model to best_model.h5\n",
      "110/110 [==============================] - 4s 40ms/step - loss: 0.2053 - accuracy: 0.9234 - val_loss: 0.3195 - val_accuracy: 0.8767\n",
      "Epoch 18/100\n",
      "108/110 [============================>.] - ETA: 0s - loss: 0.2034 - accuracy: 0.9213\n",
      "Epoch 18: saving model to best_model.h5\n",
      "110/110 [==============================] - 5s 41ms/step - loss: 0.2028 - accuracy: 0.9217 - val_loss: 0.1675 - val_accuracy: 0.9269\n",
      "Epoch 19/100\n",
      "109/110 [============================>.] - ETA: 0s - loss: 0.1877 - accuracy: 0.9283\n",
      "Epoch 19: saving model to best_model.h5\n",
      "110/110 [==============================] - 4s 35ms/step - loss: 0.1873 - accuracy: 0.9286 - val_loss: 0.1738 - val_accuracy: 0.9372\n",
      "Epoch 20/100\n",
      "109/110 [============================>.] - ETA: 0s - loss: 0.1745 - accuracy: 0.9332\n",
      "Epoch 20: saving model to best_model.h5\n",
      "110/110 [==============================] - 4s 38ms/step - loss: 0.1746 - accuracy: 0.9331 - val_loss: 0.1930 - val_accuracy: 0.9167\n",
      "Epoch 21/100\n",
      "108/110 [============================>.] - ETA: 0s - loss: 0.1566 - accuracy: 0.9439\n",
      "Epoch 21: saving model to best_model.h5\n",
      "110/110 [==============================] - 5s 42ms/step - loss: 0.1569 - accuracy: 0.9437 - val_loss: 0.1420 - val_accuracy: 0.9521\n",
      "Epoch 22/100\n",
      "108/110 [============================>.] - ETA: 0s - loss: 0.1362 - accuracy: 0.9514\n",
      "Epoch 22: saving model to best_model.h5\n",
      "110/110 [==============================] - 4s 34ms/step - loss: 0.1362 - accuracy: 0.9511 - val_loss: 0.1370 - val_accuracy: 0.9452\n",
      "Epoch 23/100\n",
      "109/110 [============================>.] - ETA: 0s - loss: 0.1356 - accuracy: 0.9524\n",
      "Epoch 23: saving model to best_model.h5\n",
      "110/110 [==============================] - 4s 36ms/step - loss: 0.1358 - accuracy: 0.9523 - val_loss: 0.1947 - val_accuracy: 0.9304\n",
      "Epoch 24/100\n",
      "109/110 [============================>.] - ETA: 0s - loss: 0.1268 - accuracy: 0.9541\n",
      "Epoch 24: saving model to best_model.h5\n",
      "110/110 [==============================] - 5s 46ms/step - loss: 0.1266 - accuracy: 0.9543 - val_loss: 0.1240 - val_accuracy: 0.9521\n",
      "Epoch 25/100\n",
      "109/110 [============================>.] - ETA: 0s - loss: 0.1209 - accuracy: 0.9584\n",
      "Epoch 25: saving model to best_model.h5\n",
      "110/110 [==============================] - 4s 35ms/step - loss: 0.1206 - accuracy: 0.9586 - val_loss: 0.1195 - val_accuracy: 0.9600\n",
      "Epoch 26/100\n",
      "109/110 [============================>.] - ETA: 0s - loss: 0.1107 - accuracy: 0.9622\n",
      "Epoch 26: saving model to best_model.h5\n",
      "110/110 [==============================] - 4s 35ms/step - loss: 0.1108 - accuracy: 0.9620 - val_loss: 0.1123 - val_accuracy: 0.9669\n",
      "Epoch 27/100\n",
      "109/110 [============================>.] - ETA: 0s - loss: 0.1025 - accuracy: 0.9665\n",
      "Epoch 27: saving model to best_model.h5\n",
      "110/110 [==============================] - 5s 47ms/step - loss: 0.1024 - accuracy: 0.9666 - val_loss: 0.1132 - val_accuracy: 0.9623\n",
      "Epoch 28/100\n",
      "109/110 [============================>.] - ETA: 0s - loss: 0.0890 - accuracy: 0.9719\n",
      "Epoch 28: saving model to best_model.h5\n",
      "110/110 [==============================] - 4s 35ms/step - loss: 0.0895 - accuracy: 0.9717 - val_loss: 0.1144 - val_accuracy: 0.9692\n",
      "Epoch 29/100\n",
      "109/110 [============================>.] - ETA: 0s - loss: 0.0971 - accuracy: 0.9685\n",
      "Epoch 29: saving model to best_model.h5\n",
      "110/110 [==============================] - 4s 35ms/step - loss: 0.0971 - accuracy: 0.9683 - val_loss: 0.0990 - val_accuracy: 0.9669\n",
      "Epoch 30/100\n",
      "108/110 [============================>.] - ETA: 0s - loss: 0.0925 - accuracy: 0.9659\n",
      "Epoch 30: saving model to best_model.h5\n",
      "110/110 [==============================] - 5s 47ms/step - loss: 0.0928 - accuracy: 0.9657 - val_loss: 0.1172 - val_accuracy: 0.9600\n",
      "Epoch 31/100\n",
      "109/110 [============================>.] - ETA: 0s - loss: 0.0795 - accuracy: 0.9742\n",
      "Epoch 31: saving model to best_model.h5\n",
      "110/110 [==============================] - 4s 35ms/step - loss: 0.0794 - accuracy: 0.9743 - val_loss: 0.0842 - val_accuracy: 0.9783\n",
      "Epoch 32/100\n",
      "109/110 [============================>.] - ETA: 0s - loss: 0.0689 - accuracy: 0.9779\n",
      "Epoch 32: saving model to best_model.h5\n",
      "110/110 [==============================] - 4s 35ms/step - loss: 0.0688 - accuracy: 0.9780 - val_loss: 0.0815 - val_accuracy: 0.9783\n",
      "Epoch 33/100\n",
      "109/110 [============================>.] - ETA: 0s - loss: 0.0624 - accuracy: 0.9808\n",
      "Epoch 33: saving model to best_model.h5\n",
      "110/110 [==============================] - 5s 47ms/step - loss: 0.0626 - accuracy: 0.9806 - val_loss: 0.1015 - val_accuracy: 0.9658\n",
      "Epoch 34/100\n",
      "109/110 [============================>.] - ETA: 0s - loss: 0.0720 - accuracy: 0.9785\n",
      "Epoch 34: saving model to best_model.h5\n",
      "110/110 [==============================] - 4s 35ms/step - loss: 0.0720 - accuracy: 0.9786 - val_loss: 0.0935 - val_accuracy: 0.9680\n",
      "Epoch 35/100\n",
      "109/110 [============================>.] - ETA: 0s - loss: 0.0593 - accuracy: 0.9785\n",
      "Epoch 35: saving model to best_model.h5\n",
      "110/110 [==============================] - 4s 35ms/step - loss: 0.0593 - accuracy: 0.9786 - val_loss: 0.0718 - val_accuracy: 0.9795\n",
      "Epoch 36/100\n",
      "109/110 [============================>.] - ETA: 0s - loss: 0.0508 - accuracy: 0.9842\n",
      "Epoch 36: saving model to best_model.h5\n",
      "110/110 [==============================] - 5s 47ms/step - loss: 0.0507 - accuracy: 0.9843 - val_loss: 0.1052 - val_accuracy: 0.9646\n",
      "Epoch 37/100\n",
      "109/110 [============================>.] - ETA: 0s - loss: 0.0458 - accuracy: 0.9860\n",
      "Epoch 37: saving model to best_model.h5\n",
      "110/110 [==============================] - 4s 35ms/step - loss: 0.0458 - accuracy: 0.9860 - val_loss: 0.0748 - val_accuracy: 0.9760\n",
      "Epoch 38/100\n",
      "109/110 [============================>.] - ETA: 0s - loss: 0.0468 - accuracy: 0.9862\n",
      "Epoch 38: saving model to best_model.h5\n",
      "110/110 [==============================] - 4s 38ms/step - loss: 0.0466 - accuracy: 0.9863 - val_loss: 0.0937 - val_accuracy: 0.9715\n",
      "Epoch 39/100\n",
      "108/110 [============================>.] - ETA: 0s - loss: 0.0529 - accuracy: 0.9803\n",
      "Epoch 39: saving model to best_model.h5\n",
      "110/110 [==============================] - 5s 46ms/step - loss: 0.0529 - accuracy: 0.9803 - val_loss: 0.1220 - val_accuracy: 0.9646\n",
      "Epoch 40/100\n",
      "109/110 [============================>.] - ETA: 0s - loss: 0.0471 - accuracy: 0.9851\n",
      "Epoch 40: saving model to best_model.h5\n",
      "110/110 [==============================] - 4s 35ms/step - loss: 0.0471 - accuracy: 0.9851 - val_loss: 0.0826 - val_accuracy: 0.9749\n",
      "Epoch 41/100\n",
      "109/110 [============================>.] - ETA: 0s - loss: 0.0428 - accuracy: 0.9860\n",
      "Epoch 41: saving model to best_model.h5\n",
      "110/110 [==============================] - 4s 34ms/step - loss: 0.0427 - accuracy: 0.9860 - val_loss: 0.0891 - val_accuracy: 0.9715\n",
      "Epoch 42/100\n",
      "109/110 [============================>.] - ETA: 0s - loss: 0.0367 - accuracy: 0.9874\n",
      "Epoch 42: saving model to best_model.h5\n",
      "110/110 [==============================] - 5s 47ms/step - loss: 0.0366 - accuracy: 0.9874 - val_loss: 0.0808 - val_accuracy: 0.9737\n",
      "Epoch 43/100\n",
      "108/110 [============================>.] - ETA: 0s - loss: 0.0369 - accuracy: 0.9876\n",
      "Epoch 43: saving model to best_model.h5\n",
      "110/110 [==============================] - 4s 35ms/step - loss: 0.0366 - accuracy: 0.9877 - val_loss: 0.0882 - val_accuracy: 0.9715\n",
      "Epoch 44/100\n",
      "109/110 [============================>.] - ETA: 0s - loss: 0.0308 - accuracy: 0.9911\n",
      "Epoch 44: saving model to best_model.h5\n",
      "110/110 [==============================] - 4s 35ms/step - loss: 0.0308 - accuracy: 0.9911 - val_loss: 0.0813 - val_accuracy: 0.9703\n",
      "Epoch 45/100\n",
      "109/110 [============================>.] - ETA: 0s - loss: 0.0560 - accuracy: 0.9805\n",
      "Epoch 45: saving model to best_model.h5\n",
      "110/110 [==============================] - 5s 47ms/step - loss: 0.0558 - accuracy: 0.9806 - val_loss: 0.0692 - val_accuracy: 0.9783\n",
      "Epoch 46/100\n",
      "109/110 [============================>.] - ETA: 0s - loss: 0.0406 - accuracy: 0.9860\n",
      "Epoch 46: saving model to best_model.h5\n",
      "110/110 [==============================] - 4s 34ms/step - loss: 0.0405 - accuracy: 0.9860 - val_loss: 0.0712 - val_accuracy: 0.9749\n",
      "Epoch 47/100\n",
      "109/110 [============================>.] - ETA: 0s - loss: 0.0399 - accuracy: 0.9877\n",
      "Epoch 47: saving model to best_model.h5\n",
      "110/110 [==============================] - 4s 35ms/step - loss: 0.0398 - accuracy: 0.9877 - val_loss: 0.1070 - val_accuracy: 0.9646\n",
      "Epoch 48/100\n",
      "109/110 [============================>.] - ETA: 0s - loss: 0.0305 - accuracy: 0.9917\n",
      "Epoch 48: saving model to best_model.h5\n",
      "110/110 [==============================] - 5s 45ms/step - loss: 0.0311 - accuracy: 0.9914 - val_loss: 0.0564 - val_accuracy: 0.9817\n",
      "Epoch 49/100\n",
      "109/110 [============================>.] - ETA: 0s - loss: 0.0326 - accuracy: 0.9897\n",
      "Epoch 49: saving model to best_model.h5\n",
      "110/110 [==============================] - 4s 36ms/step - loss: 0.0325 - accuracy: 0.9897 - val_loss: 0.0696 - val_accuracy: 0.9749\n",
      "Epoch 50/100\n",
      "109/110 [============================>.] - ETA: 0s - loss: 0.0536 - accuracy: 0.9839\n",
      "Epoch 50: saving model to best_model.h5\n",
      "110/110 [==============================] - 4s 35ms/step - loss: 0.0535 - accuracy: 0.9840 - val_loss: 0.0499 - val_accuracy: 0.9817\n",
      "Epoch 51/100\n",
      "109/110 [============================>.] - ETA: 0s - loss: 0.0178 - accuracy: 0.9957\n",
      "Epoch 51: saving model to best_model.h5\n",
      "110/110 [==============================] - 5s 41ms/step - loss: 0.0178 - accuracy: 0.9957 - val_loss: 0.0463 - val_accuracy: 0.9840\n",
      "Epoch 52/100\n",
      "110/110 [==============================] - ETA: 0s - loss: 0.0254 - accuracy: 0.9909\n",
      "Epoch 52: saving model to best_model.h5\n",
      "110/110 [==============================] - 4s 40ms/step - loss: 0.0254 - accuracy: 0.9909 - val_loss: 0.0438 - val_accuracy: 0.9829\n",
      "Epoch 53/100\n",
      "109/110 [============================>.] - ETA: 0s - loss: 0.0192 - accuracy: 0.9951\n",
      "Epoch 53: saving model to best_model.h5\n",
      "110/110 [==============================] - 4s 35ms/step - loss: 0.0192 - accuracy: 0.9951 - val_loss: 0.1224 - val_accuracy: 0.9669\n",
      "Epoch 54/100\n",
      "109/110 [============================>.] - ETA: 0s - loss: 0.0205 - accuracy: 0.9928\n",
      "Epoch 54: saving model to best_model.h5\n",
      "110/110 [==============================] - 4s 40ms/step - loss: 0.0209 - accuracy: 0.9926 - val_loss: 0.0751 - val_accuracy: 0.9749\n",
      "Epoch 55/100\n",
      "110/110 [==============================] - ETA: 0s - loss: 0.0416 - accuracy: 0.9866\n",
      "Epoch 55: saving model to best_model.h5\n",
      "110/110 [==============================] - 5s 42ms/step - loss: 0.0416 - accuracy: 0.9866 - val_loss: 0.0709 - val_accuracy: 0.9772\n",
      "Epoch 56/100\n",
      "109/110 [============================>.] - ETA: 0s - loss: 0.0265 - accuracy: 0.9923\n",
      "Epoch 56: saving model to best_model.h5\n",
      "110/110 [==============================] - 4s 35ms/step - loss: 0.0264 - accuracy: 0.9923 - val_loss: 0.0513 - val_accuracy: 0.9874\n",
      "Epoch 57/100\n",
      "110/110 [==============================] - ETA: 0s - loss: 0.0143 - accuracy: 0.9966\n",
      "Epoch 57: saving model to best_model.h5\n",
      "110/110 [==============================] - 4s 38ms/step - loss: 0.0143 - accuracy: 0.9966 - val_loss: 0.0552 - val_accuracy: 0.9840\n",
      "Epoch 58/100\n",
      "108/110 [============================>.] - ETA: 0s - loss: 0.0182 - accuracy: 0.9939\n",
      "Epoch 58: saving model to best_model.h5\n",
      "110/110 [==============================] - 5s 43ms/step - loss: 0.0184 - accuracy: 0.9937 - val_loss: 0.0601 - val_accuracy: 0.9795\n",
      "Epoch 59/100\n",
      "109/110 [============================>.] - ETA: 0s - loss: 0.0139 - accuracy: 0.9960\n",
      "Epoch 59: saving model to best_model.h5\n",
      "110/110 [==============================] - 4s 35ms/step - loss: 0.0139 - accuracy: 0.9960 - val_loss: 0.0509 - val_accuracy: 0.9829\n",
      "Epoch 60/100\n",
      "109/110 [============================>.] - ETA: 0s - loss: 0.0250 - accuracy: 0.9920\n",
      "Epoch 60: saving model to best_model.h5\n",
      "110/110 [==============================] - 4s 36ms/step - loss: 0.0249 - accuracy: 0.9920 - val_loss: 0.0789 - val_accuracy: 0.9749\n",
      "Epoch 61/100\n",
      "109/110 [============================>.] - ETA: 0s - loss: 0.0224 - accuracy: 0.9914\n",
      "Epoch 61: saving model to best_model.h5\n",
      "110/110 [==============================] - 5s 46ms/step - loss: 0.0224 - accuracy: 0.9914 - val_loss: 0.0984 - val_accuracy: 0.9692\n",
      "Epoch 62/100\n",
      "109/110 [============================>.] - ETA: 0s - loss: 0.0179 - accuracy: 0.9960\n",
      "Epoch 62: saving model to best_model.h5\n",
      "110/110 [==============================] - 4s 35ms/step - loss: 0.0179 - accuracy: 0.9960 - val_loss: 0.0465 - val_accuracy: 0.9863\n"
     ]
    }
   ]
  },
  {
   "cell_type": "code",
   "source": [
    "model.evaluate(Xtrain, Ytrain)"
   ],
   "metadata": {
    "id": "utP1pNKJ-mMx",
    "colab": {
     "base_uri": "https://localhost:8080/"
    },
    "outputId": "cd4b3f86-0435-416d-a6a4-692bfd0d9934"
   },
   "execution_count": 55,
   "outputs": [
    {
     "output_type": "stream",
     "name": "stdout",
     "text": [
      "110/110 [==============================] - 1s 12ms/step - loss: 0.0099 - accuracy: 0.9983\n"
     ]
    },
    {
     "output_type": "execute_result",
     "data": {
      "text/plain": [
       "[0.009873811155557632, 0.998285710811615]"
      ]
     },
     "metadata": {},
     "execution_count": 55
    }
   ]
  },
  {
   "cell_type": "code",
   "source": [
    "from PIL import Image\n",
    "import pandas as pd\n",
    "import numpy as np\n",
    "import tensorflow as tf\n",
    "import cv2"
   ],
   "metadata": {
    "id": "lGWAzO_VnVTi"
   },
   "execution_count": null,
   "outputs": []
  },
  {
   "cell_type": "code",
   "source": [
    "!pip install google.colab\n",
    "from google.colab.patches import cv2_imshow"
   ],
   "metadata": {
    "id": "t0k_NhyNsEyC"
   },
   "execution_count": null,
   "outputs": []
  },
  {
   "cell_type": "code",
   "source": [
    "model = tf.keras.models.load_model('/content/best_model (1).h5')\n",
    "\n",
    "img = cv2.imread('ISIC_0024306.jpg')\n",
    "cv2_imshow(img)\n",
    "img = cv2.resize(img, (28, 28))\n",
    "result = model.predict(img.reshape(1, 28, 28, 3))\n",
    "max_prob = max(result[0])\n",
    "class_ind = list(result[0]).index(max_prob)\n",
    "print(class_ind)\n",
    "\n"
   ],
   "metadata": {
    "id": "iSdKIhfqqH-3"
   },
   "execution_count": null,
   "outputs": []
  },
  {
   "cell_type": "code",
   "source": [
    "df = pd.DataFrame([flattened_array], columns=[f'pixel{i:04d}' for i in range(len(flattened_array))])\n",
    "\n"
   ],
   "metadata": {
    "id": "fAQrof2uqIGV"
   },
   "execution_count": null,
   "outputs": []
  },
  {
   "cell_type": "code",
   "source": [
    "input_data = df.to_numpy()\n",
    "print(input_data)"
   ],
   "metadata": {
    "id": "VzY6YmUqtHMt"
   },
   "execution_count": null,
   "outputs": []
  },
  {
   "cell_type": "code",
   "source": [
    "# Reshape the input data to match the grayscale image shape\n",
    "\n",
    "input_data=input_data\n",
    "XData = input_data.reshape((-1, 28, 28, 3))\n",
    "XData = XData / 255.0  # Normalize the input data"
   ],
   "metadata": {
    "id": "IpcQO9szr_am"
   },
   "execution_count": null,
   "outputs": []
  },
  {
   "cell_type": "code",
   "source": [
    "# Pass the input to the model for prediction\n",
    "predictions = model.predict(XData)\n",
    "\n",
    "# Interpret the output\n",
    "# Assuming the model is a classification model, you can extract the predicted class labels\n",
    "predicted_labels = np.argmax(predictions, axis=1)\n",
    "\n",
    "# Print the predicted labels\n",
    "\n",
    "#0029301\n",
    "\n",
    "classes = {4: ' melanocytic nevi', 6:  'melanoma', 2 :'benign keratosis-like lesions', 1: ' basal cell carcinoma', 5: ' pyogenic granulomas and hemorrhage', 0:  'Actinic keratoses and intraepithelial carcinomae',  3:  'dermatofibroma'}\n",
    "print(classes[predicted_labels[0]])"
   ],
   "metadata": {
    "id": "XJbMA0oBsCwr"
   },
   "execution_count": null,
   "outputs": []
  },
  {
   "cell_type": "code",
   "source": [
    "print(28*28*3)"
   ],
   "metadata": {
    "id": "2FoFdf-zs9hr"
   },
   "execution_count": null,
   "outputs": []
  }
 ]
}
